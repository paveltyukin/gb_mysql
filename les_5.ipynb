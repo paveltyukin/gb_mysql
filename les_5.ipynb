{
  "nbformat": 4,
  "nbformat_minor": 0,
  "metadata": {
    "colab": {
      "name": "les_5.ipynb",
      "provenance": [],
      "collapsed_sections": [],
      "authorship_tag": "ABX9TyMKEljddl6NkWiB5vMSd/PP",
      "include_colab_link": true
    },
    "kernelspec": {
      "name": "python3",
      "display_name": "Python 3"
    }
  },
  "cells": [
    {
      "cell_type": "markdown",
      "metadata": {
        "id": "view-in-github",
        "colab_type": "text"
      },
      "source": [
        "<a href=\"https://colab.research.google.com/github/paveltyukin/gb_mysql/blob/master/les_5.ipynb\" target=\"_parent\"><img src=\"https://colab.research.google.com/assets/colab-badge.svg\" alt=\"Open In Colab\"/></a>"
      ]
    },
    {
      "cell_type": "markdown",
      "metadata": {
        "id": "0fKMCbdaXMz4",
        "colab_type": "text"
      },
      "source": [
        "# Практическое задание по теме “Операторы, фильтрация, сортировка и ограничение”"
      ]
    },
    {
      "cell_type": "markdown",
      "metadata": {
        "id": "UxtoFfYgaXqg",
        "colab_type": "text"
      },
      "source": [
        "#### 1. Пусть в таблице users поля created_at и updated_at оказались незаполненными. Заполните их текущими датой и временем.\n",
        "\n",
        "```\n",
        "update vk.posts set created_at = now();\n",
        "update vk.posts set updated_at = now();\n",
        "```"
      ]
    },
    {
      "cell_type": "markdown",
      "metadata": {
        "id": "f2MiAlmCaaCC",
        "colab_type": "text"
      },
      "source": [
        "#### 2. Таблица users была неудачно спроектирована. Записи created_at и updated_at были заданы типом VARCHAR и в них долгое время помещались значения в формате \"20.10.2017 8:10\". Необходимо преобразовать поля к типу DATETIME, сохранив введеные ранее значения.\n",
        "\n",
        "```\n",
        "alter table vk.posts add column created_ad_add varchar(255) default '20.10.2017 8:10';\n",
        "select str_to_date(created_ad_add, '%d.%m.%y %h:%i') from vk.posts;\n",
        "update vk.posts set created_ad_add = str_to_date(created_ad_add, '%d.%m.%y %h:%i');\n",
        "alter table vk.posts modify column created_ad_add datetime\n",
        "alter table vk.posts drop column created_ad_add;\n",
        "```\n",
        "\n",
        "\n"
      ]
    },
    {
      "cell_type": "markdown",
      "metadata": {
        "id": "w26C76z4aaE6",
        "colab_type": "text"
      },
      "source": [
        "#### 3. В таблице складских запасов storehouses_products в поле value могут встречаться самые разные цифры: 0, если товар закончился и выше нуля, если на складе имеются запасы. Необходимо отсортировать записи таким образом, чтобы они выводились в порядке увеличения значения value. Однако, нулевые запасы должны выводиться в конце, после всех записей.\n",
        "\n",
        "![alt text](https://drive.google.com/uc?export=download&id=1CHSnbTl2rp3fdrJdJTyRklyOt4-sw45H)\n"
      ]
    },
    {
      "cell_type": "markdown",
      "metadata": {
        "id": "9BIL9Fmhl09H",
        "colab_type": "text"
      },
      "source": [
        "\n",
        "\n",
        "```\n",
        "select * from storehouses_products \n",
        "order by \n",
        "    case when value = 0 then 1 \n",
        "    else 0 end, \n",
        "value asc;\n",
        "```\n",
        "\n"
      ]
    },
    {
      "cell_type": "markdown",
      "metadata": {
        "colab_type": "text",
        "id": "X-Uqos69ckIk"
      },
      "source": [
        "\n",
        "\n",
        "```\n",
        "SELECT \n",
        "    * \n",
        "FROM \n",
        "    storehouses_products \n",
        "ORDER BY  \n",
        "    IF(value > 0,0,1),\n",
        "    value;\n",
        "```\n",
        "\n"
      ]
    },
    {
      "cell_type": "markdown",
      "metadata": {
        "colab_type": "text",
        "id": "j2FHzkQBdE0B"
      },
      "source": [
        "\n",
        "\n",
        "```\n",
        "SELECT \n",
        "    * \n",
        "FROM \n",
        "    storehouses_products \n",
        "ORDER BY  \n",
        "    value = 0, value;\n",
        "```\n",
        "\n"
      ]
    },
    {
      "cell_type": "markdown",
      "metadata": {
        "id": "vtcY3fFMaaH1",
        "colab_type": "text"
      },
      "source": [
        "#### 4. (по желанию) Из таблицы users необходимо извлечь пользователей, родившихся в августе и мае. Месяцы заданы в виде списка английских названий ('may', 'august')\n",
        "\n",
        "\n",
        "\n",
        "\n",
        "\n",
        "```\n",
        "select \n",
        "  user_id, \n",
        "  case\n",
        "    when month(birthday) = 5 then 'may'\n",
        "    when month(birthday) = 8 then 'august'\n",
        "  end month,\n",
        "  month(birthday) \n",
        "  from vk.profiles where month(birthday) = 5 or month(birthday) = 8;\n",
        "```\n",
        "\n",
        "\n",
        "```\n",
        "SELECT \n",
        "    name\n",
        "FROM\n",
        "    users\n",
        "WHERE\n",
        "    DATE_FORMAT(birthday_at, '%M') IN ('may', 'august');\n",
        "```\n",
        "\n",
        "\n",
        "\n"
      ]
    },
    {
      "cell_type": "markdown",
      "metadata": {
        "id": "6sl4FFbhaaKo",
        "colab_type": "text"
      },
      "source": [
        "#### 5. (по желанию) Из таблицы catalogs извлекаются записи при помощи запроса. SELECT * FROM catalogs WHERE id IN (5, 1, 2); Отсортируйте записи в порядке, заданном в списке IN.\n",
        "\n",
        "\n",
        "\n",
        "```\n",
        "SELECT\n",
        "    *\n",
        "FROM\n",
        "    catalogs\n",
        "WHERE\n",
        "    id IN (5, 1, 2)\n",
        "ORDER BY\n",
        "    FIELD(id, 5, 1, 2);\n",
        "```\n",
        "\n"
      ]
    },
    {
      "cell_type": "markdown",
      "metadata": {
        "id": "eDd6MKGLaaOC",
        "colab_type": "text"
      },
      "source": [
        "# Практическое задание теме “Агрегация данных”"
      ]
    },
    {
      "cell_type": "markdown",
      "metadata": {
        "id": "yaq1UqM3aaQ0",
        "colab_type": "text"
      },
      "source": [
        "#### 1. Подсчитайте средний возраст пользователей в таблице users\n"
      ]
    },
    {
      "cell_type": "markdown",
      "metadata": {
        "id": "3erbQIJ_pDGW",
        "colab_type": "text"
      },
      "source": [
        "\n",
        "\n",
        "```\n",
        "select avg(datediff(now(), birthday))/365.25 from vk.profiles\n",
        "```\n",
        "\n",
        "\n",
        "\n",
        "```\n",
        "SELECT\n",
        "    AVG(TIMESTAMPDIFF(YEAR, birthday_at, NOW())) AS age\n",
        "FROM\n",
        "    users;\n",
        "```\n",
        "\n"
      ]
    },
    {
      "cell_type": "markdown",
      "metadata": {
        "id": "G8krTHYLaaTx",
        "colab_type": "text"
      },
      "source": [
        "#### 2. Подсчитайте количество дней рождения, которые приходятся на каждый из дней недели. Следует учесть, что необходимы дни недели текущего года, а не года рождения.\n",
        "\n",
        "\n",
        "\n",
        "\n",
        "```\n",
        "select \n",
        " count(*) as total, \n",
        " week(str_to_date(concat('2020,',month(birthday),',',day(birthday)), '%Y,%m,%d')) as doy  \n",
        " from vk.profiles \n",
        " group by doy \n",
        " order by total desc;\n",
        "```\n",
        "\n",
        "\n",
        "\n",
        "```\n",
        "SELECT\n",
        "    DATE_FORMAT(DATE(CONCAT_WS('-', YEAR(NOW()), MONTH(birthday_at), DAY(birthday_at))), '%W')  AS dob, COUNT(*) AS total\n",
        "FROM\n",
        "    users\n",
        "GROUP BY\n",
        "    dob\n",
        "ORDER BY\n",
        "    total DSC;\n",
        "```\n",
        "\n",
        "\n",
        "\n"
      ]
    },
    {
      "cell_type": "markdown",
      "metadata": {
        "id": "Bkr_T9WXaaWw",
        "colab_type": "text"
      },
      "source": [
        "#### 3. (по желанию) Подсчитайте произведение чисел в столбце таблицы\n",
        "\n",
        "![alt text](https://drive.google.com/uc?export=download&id=1y15-vU7VTOFg-KwWcUX6OfO7Ps-4ejAU)\n",
        "\n",
        "\n",
        "\n",
        "\n",
        "\n",
        "\n",
        "```\n",
        "drop table if exists profiles_temp;\n",
        "\n",
        "create temporary table profiles_temp\n",
        "\tselect user_id \n",
        "    from vk.profiles \n",
        "    where user_id between 1 and 5;\n",
        "\n",
        "select round(exp(sum(ln( user_id)))) from vk.profiles_temp;\n",
        "```\n",
        "\n"
      ]
    }
  ]
}