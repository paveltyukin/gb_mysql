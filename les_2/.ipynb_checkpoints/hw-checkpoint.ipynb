{
 "cells": [
  {
   "cell_type": "markdown",
   "metadata": {},
   "source": [
    "## Практическое задание по теме “Управление БД”"
   ]
  },
  {
   "cell_type": "markdown",
   "metadata": {},
   "source": [
    "1. Установите СУБД MySQL. Создайте в домашней директории файл .my.cnf, задав в нем логин и пароль, который указывался при установке."
   ]
  },
  {
   "cell_type": "raw",
   "metadata": {},
   "source": [
    "cat .my.cnf\n",
    "[mysql]\n",
    "user=sdr\n",
    "password=***"
   ]
  },
  {
   "cell_type": "markdown",
   "metadata": {},
   "source": [
    "2. Создайте базу данных example, разместите в ней таблицу users, состоящую из двух столбцов, числового id и строкового name."
   ]
  },
  {
   "cell_type": "raw",
   "metadata": {},
   "source": [
    "CREATE DATABASE example;\n",
    "USE example;\n",
    "\n",
    "CREATE TABLE `users` (\n",
    "  `id` int NOT NULL,\n",
    "  `name` varchar(45) DEFAULT NULL,\n",
    "  PRIMARY KEY (`id`)\n",
    ")"
   ]
  },
  {
   "cell_type": "markdown",
   "metadata": {},
   "source": [
    "3. Создайте дамп базы данных example из предыдущего задания, разверните содержимое дампа в новую базу данных sample."
   ]
  },
  {
   "cell_type": "raw",
   "metadata": {},
   "source": [
    "mysqldump -h localhost -u root -p example > fdump.sql"
   ]
  },
  {
   "cell_type": "raw",
   "metadata": {},
   "source": [
    "cat fdump.sql \n",
    "-- MySQL dump 10.13  Distrib 8.0.19, for Linux (x86_64)\n",
    "--\n",
    "-- Host: localhost    Database: example\n",
    "-- ------------------------------------------------------\n",
    "-- Server version\t8.0.19\n",
    "\n",
    "/*!40101 SET @OLD_CHARACTER_SET_CLIENT=@@CHARACTER_SET_CLIENT */;\n",
    "/*!40101 SET @OLD_CHARACTER_SET_RESULTS=@@CHARACTER_SET_RESULTS */;\n",
    "/*!40101 SET @OLD_COLLATION_CONNECTION=@@COLLATION_CONNECTION */;\n",
    "/*!50503 SET NAMES utf8mb4 */;\n",
    "/*!40103 SET @OLD_TIME_ZONE=@@TIME_ZONE */;\n",
    "/*!40103 SET TIME_ZONE='+00:00' */;\n",
    "/*!40014 SET @OLD_UNIQUE_CHECKS=@@UNIQUE_CHECKS, UNIQUE_CHECKS=0 */;\n",
    "/*!40014 SET @OLD_FOREIGN_KEY_CHECKS=@@FOREIGN_KEY_CHECKS, FOREIGN_KEY_CHECKS=0 */;\n",
    "/*!40101 SET @OLD_SQL_MODE=@@SQL_MODE, SQL_MODE='NO_AUTO_VALUE_ON_ZERO' */;\n",
    "/*!40111 SET @OLD_SQL_NOTES=@@SQL_NOTES, SQL_NOTES=0 */;\n",
    "\n",
    "--\n",
    "-- Table structure for table `users`\n",
    "--\n",
    "\n",
    "DROP TABLE IF EXISTS `users`;\n",
    "/*!40101 SET @saved_cs_client     = @@character_set_client */;\n",
    "/*!50503 SET character_set_client = utf8mb4 */;\n",
    "CREATE TABLE `users` (\n",
    "  `id` int NOT NULL,\n",
    "  `name` varchar(45) DEFAULT NULL,\n",
    "  PRIMARY KEY (`id`)\n",
    ") ENGINE=InnoDB DEFAULT CHARSET=utf8;\n",
    "/*!40101 SET character_set_client = @saved_cs_client */;\n",
    "\n",
    "--\n",
    "-- Dumping data for table `users`\n",
    "--\n",
    "\n",
    "LOCK TABLES `users` WRITE;\n",
    "/*!40000 ALTER TABLE `users` DISABLE KEYS */;\n",
    "INSERT INTO `users` VALUES (2,'Alex'),(3,'Alex');\n",
    "/*!40000 ALTER TABLE `users` ENABLE KEYS */;\n",
    "UNLOCK TABLES;\n",
    "/*!40103 SET TIME_ZONE=@OLD_TIME_ZONE */;\n",
    "\n",
    "/*!40101 SET SQL_MODE=@OLD_SQL_MODE */;\n",
    "/*!40014 SET FOREIGN_KEY_CHECKS=@OLD_FOREIGN_KEY_CHECKS */;\n",
    "/*!40014 SET UNIQUE_CHECKS=@OLD_UNIQUE_CHECKS */;\n",
    "/*!40101 SET CHARACTER_SET_CLIENT=@OLD_CHARACTER_SET_CLIENT */;\n",
    "/*!40101 SET CHARACTER_SET_RESULTS=@OLD_CHARACTER_SET_RESULTS */;\n",
    "/*!40101 SET COLLATION_CONNECTION=@OLD_COLLATION_CONNECTION */;\n",
    "/*!40111 SET SQL_NOTES=@OLD_SQL_NOTES */;\n",
    "\n",
    "-- Dump completed on 2020-02-18 11:07:07"
   ]
  },
  {
   "cell_type": "raw",
   "metadata": {},
   "source": [
    "mysql -uroot -p sample < fdump.sql"
   ]
  },
  {
   "cell_type": "raw",
   "metadata": {},
   "source": [
    "mysql> use sample\n",
    "Database changed\n",
    "mysql> show tables;\n",
    "+------------------+\n",
    "| Tables_in_sample |\n",
    "+------------------+\n",
    "| users            |\n",
    "+------------------+\n",
    "1 row in set (0.01 sec)\n",
    "mysql> select * from users;\n",
    "+----+------+\n",
    "| id | name |\n",
    "+----+------+\n",
    "|  2 | Alex |\n",
    "|  3 | Alex |\n",
    "+----+------+\n",
    "2 rows in set (0.04 sec)"
   ]
  },
  {
   "cell_type": "markdown",
   "metadata": {},
   "source": [
    "4. (по желанию) Ознакомьтесь более подробно с документацией утилиты mysqldump. Создайте дамп единственной таблицы help_keyword базы данных mysql. Причем добейтесь того, чтобы дамп содержал только первые 100 строк таблицы."
   ]
  },
  {
   "cell_type": "raw",
   "metadata": {},
   "source": [
    "mysqldump -uroot -hlocalhost -p --where=\"true limit 20\" mysql help_keyword > help_keyword.sql"
   ]
  },
  {
   "cell_type": "raw",
   "metadata": {},
   "source": [
    "cat help_keyword.sql \n",
    "-- MySQL dump 10.13  Distrib 8.0.19, for Linux (x86_64)\n",
    "--\n",
    "-- Host: localhost    Database: mysql\n",
    "-- ------------------------------------------------------\n",
    "-- Server version\t8.0.19\n",
    "\n",
    "/*!40101 SET @OLD_CHARACTER_SET_CLIENT=@@CHARACTER_SET_CLIENT */;\n",
    "/*!40101 SET @OLD_CHARACTER_SET_RESULTS=@@CHARACTER_SET_RESULTS */;\n",
    "/*!40101 SET @OLD_COLLATION_CONNECTION=@@COLLATION_CONNECTION */;\n",
    "/*!50503 SET NAMES utf8mb4 */;\n",
    "/*!40103 SET @OLD_TIME_ZONE=@@TIME_ZONE */;\n",
    "/*!40103 SET TIME_ZONE='+00:00' */;\n",
    "/*!40014 SET @OLD_UNIQUE_CHECKS=@@UNIQUE_CHECKS, UNIQUE_CHECKS=0 */;\n",
    "/*!40014 SET @OLD_FOREIGN_KEY_CHECKS=@@FOREIGN_KEY_CHECKS, FOREIGN_KEY_CHECKS=0 */;\n",
    "/*!40101 SET @OLD_SQL_MODE=@@SQL_MODE, SQL_MODE='NO_AUTO_VALUE_ON_ZERO' */;\n",
    "/*!40111 SET @OLD_SQL_NOTES=@@SQL_NOTES, SQL_NOTES=0 */;\n",
    "\n",
    "--\n",
    "-- Table structure for table `help_keyword`\n",
    "--\n",
    "\n",
    "DROP TABLE IF EXISTS `help_keyword`;\n",
    "/*!40101 SET @saved_cs_client     = @@character_set_client */;\n",
    "/*!50503 SET character_set_client = utf8mb4 */;\n",
    "CREATE TABLE `help_keyword` (\n",
    "  `help_keyword_id` int unsigned NOT NULL,\n",
    "  `name` char(64) NOT NULL,\n",
    "  PRIMARY KEY (`help_keyword_id`),\n",
    "  UNIQUE KEY `name` (`name`)\n",
    ") /*!50100 TABLESPACE `mysql` */ ENGINE=InnoDB DEFAULT CHARSET=utf8 STATS_PERSISTENT=0 ROW_FORMAT=DYNAMIC COMMENT='help keywords';\n",
    "/*!40101 SET character_set_client = @saved_cs_client */;\n",
    "\n",
    "--\n",
    "-- Dumping data for table `help_keyword`\n",
    "--\n",
    "-- WHERE:  true limit 20\n",
    "\n",
    "LOCK TABLES `help_keyword` WRITE;\n",
    "/*!40000 ALTER TABLE `help_keyword` DISABLE KEYS */;\n",
    "INSERT INTO `help_keyword` VALUES (225,'(JSON'),(226,'->'),(228,'->>'),(46,'<>'),(628,'ACCOUNT'),(422,'ACTION'),(40,'ADD'),(653,'ADMIN'),(108,'AES_DECRYPT'),(109,'AES_ENCRYPT'),(341,'AFTER'),(95,'AGAINST'),(675,'AGGREGATE'),(342,'ALGORITHM'),(488,'ALL'),(41,'ALTER'),(343,'ANALYZE'),(47,'AND'),(311,'ANY_VALUE'),(423,'ARCHIVE');\n",
    "/*!40000 ALTER TABLE `help_keyword` ENABLE KEYS */;\n",
    "UNLOCK TABLES;\n",
    "/*!40103 SET TIME_ZONE=@OLD_TIME_ZONE */;\n",
    "\n",
    "/*!40101 SET SQL_MODE=@OLD_SQL_MODE */;\n",
    "/*!40014 SET FOREIGN_KEY_CHECKS=@OLD_FOREIGN_KEY_CHECKS */;\n",
    "/*!40014 SET UNIQUE_CHECKS=@OLD_UNIQUE_CHECKS */;\n",
    "/*!40101 SET CHARACTER_SET_CLIENT=@OLD_CHARACTER_SET_CLIENT */;\n",
    "/*!40101 SET CHARACTER_SET_RESULTS=@OLD_CHARACTER_SET_RESULTS */;\n",
    "/*!40101 SET COLLATION_CONNECTION=@OLD_COLLATION_CONNECTION */;\n",
    "/*!40111 SET SQL_NOTES=@OLD_SQL_NOTES */;\n",
    "\n",
    "-- Dump completed on 2020-02-18 11:40:26"
   ]
  }
 ],
 "metadata": {
  "kernelspec": {
   "display_name": "Python 3",
   "language": "python",
   "name": "python3"
  },
  "language_info": {
   "codemirror_mode": {
    "name": "ipython",
    "version": 3
   },
   "file_extension": ".py",
   "mimetype": "text/x-python",
   "name": "python",
   "nbconvert_exporter": "python",
   "pygments_lexer": "ipython3",
   "version": "3.7.4"
  }
 },
 "nbformat": 4,
 "nbformat_minor": 4
}
